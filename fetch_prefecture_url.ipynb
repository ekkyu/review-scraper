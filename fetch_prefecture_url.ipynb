{
 "cells": [
  {
   "cell_type": "code",
   "execution_count": 109,
   "metadata": {},
   "outputs": [],
   "source": [
    "# -*- coding: utf-8 -*-\n",
    "\n",
    "import re\n",
    "import json\n",
    "import requests\n",
    "import pprint\n",
    "import numpy as np\n",
    "import pandas as pd\n",
    "from bs4 import BeautifulSoup\n",
    "\n",
    "def fetch_prefecture_url():\n",
    "    kibutsuhyou_url = \"https://www.kibutu.com/\"\n",
    "\n",
    "    url = kibutsuhyou_url\n",
    "    response = requests.get(url)\n",
    "\n",
    "    soup = BeautifulSoup(response.content, \"html.parser\")\n",
    "\n",
    "    soup_a = soup.find_all(\"a\")\n",
    "    prefecture_url = [\"https://www.kibutu.com/\" + i.get(\"href\") for i in soup_a]\n",
    "    del prefecture_url[-2:]\n",
    "    \n",
    "    return prefecture_url\n",
    "\n",
    "def fetch_university_url(prefecture_url_i):\n",
    "    url = prefecture_url_i\n",
    "    response = requests.get(url)\n",
    "\n",
    "    soup = BeautifulSoup(response.content, \"html.parser\")\n",
    "    soup_a = soup.find_all(\"a\")\n",
    "    university_url_i = [i.get(\"href\") for i in soup_a]\n",
    "    del university_url_i[0]\n",
    "\n",
    "    return university_url_i\n",
    "\n",
    "def fetch_university_name(prefecture_url_i):\n",
    "    url = prefecture_url_i\n",
    "    response = requests.get(url)\n",
    "\n",
    "    soup = BeautifulSoup(response.content, \"html.parser\")\n",
    "    soup_a = soup.find_all(\"a\")\n",
    "    university_name_i = [i.string for i in soup_a]\n",
    "    del university_name_i[0]\n",
    "\n",
    "    return university_name_i\n",
    "\n",
    "def fetch_lecture_url(university_url_i):\n",
    "    url = university_url_i\n",
    "    response = requests.get(url)\n",
    "\n",
    "    soup = BeautifulSoup(response.content, \"html.parser\")\n",
    "    soup_a = soup.find_all(\"a\")\n",
    "    lecture_url = [i.get(\"href\") for i in soup_a]\n",
    "    del lecture_url[:14]\n",
    "    del lecture_url[-1]\n",
    "\n",
    "    return lecture_url"
   ]
  },
  {
   "cell_type": "code",
   "execution_count": 96,
   "metadata": {},
   "outputs": [],
   "source": [
    "#fetch data from TOKAI\n",
    "prefecture_url = fetch_prefecture_url()\n",
    "tokai_prefecture_url =  prefecture_url[20:24] #東海地方"
   ]
  },
  {
   "cell_type": "code",
   "execution_count": 97,
   "metadata": {},
   "outputs": [],
   "source": [
    "prefecture_url = tokai_prefecture_url\n",
    "\n",
    "university_url = [fetch_university_url(i) for i in prefecture_url]\n",
    "university_name = [fetch_university_name(i) for i in prefecture_url]"
   ]
  },
  {
   "cell_type": "code",
   "execution_count": 102,
   "metadata": {},
   "outputs": [],
   "source": [
    "lecture_len = []\n",
    "for university_url_i in university_url:\n",
    "    lecture_url = [fetch_lecture_url(i) for i in university_url_i]\n",
    "    lecture_len_ = [len(i) for i in lecture_url]\n",
    "    lecture_len.append(lecture_len_)"
   ]
  },
  {
   "cell_type": "code",
   "execution_count": 119,
   "metadata": {},
   "outputs": [],
   "source": [
    "#lecture_len = [ flatten for inner in lecture_len for flatten in inner ]\n",
    "#university_name = [ flatten for inner in university_name for flatten in inner ]\n",
    "\n",
    "df = pd.DataFrame(university_name, lecture_len)\n",
    "df.to_csv('tokai.csv', encoding='utf_8_sig')"
   ]
  },
  {
   "cell_type": "code",
   "execution_count": null,
   "metadata": {},
   "outputs": [],
   "source": []
  }
 ],
 "metadata": {
  "kernelspec": {
   "display_name": "Python 3",
   "language": "python",
   "name": "python3"
  },
  "language_info": {
   "codemirror_mode": {
    "name": "ipython",
    "version": 3
   },
   "file_extension": ".py",
   "mimetype": "text/x-python",
   "name": "python",
   "nbconvert_exporter": "python",
   "pygments_lexer": "ipython3",
   "version": "3.6.8"
  }
 },
 "nbformat": 4,
 "nbformat_minor": 2
}
